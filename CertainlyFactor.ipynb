{
  "nbformat": 4,
  "nbformat_minor": 0,
  "metadata": {
    "colab": {
      "provenance": [],
      "authorship_tag": "ABX9TyPuEUmhqHcvg/OtdJQCPfiQ",
      "include_colab_link": true
    },
    "kernelspec": {
      "name": "python3",
      "display_name": "Python 3"
    },
    "language_info": {
      "name": "python"
    }
  },
  "cells": [
    {
      "cell_type": "markdown",
      "metadata": {
        "id": "view-in-github",
        "colab_type": "text"
      },
      "source": [
        "<a href=\"https://colab.research.google.com/github/sucinursania/Sistem_Pakar-CF-FuzzyLogic-/blob/main/CertainlyFactor.ipynb\" target=\"_parent\"><img src=\"https://colab.research.google.com/assets/colab-badge.svg\" alt=\"Open In Colab\"/></a>"
      ]
    },
    {
      "cell_type": "markdown",
      "source": [
        "# Certainly Factor\n",
        "1. Ubah nilai CF gejala dan amati perubahan hasil\n",
        "2. Tambahkan 5 gejala baru seperti dengan nilai CF.\n",
        "3. Jika \"demam\" diubah jadi 0.2, bagaimana hasilnya? Mengapa?\n",
        "4. Jelaskan bagaimana hasil perubahannya  dalam bentuk komentar atau teks cell"
      ],
      "metadata": {
        "id": "cVwjxfqPvz0e"
      }
    },
    {
      "cell_type": "code",
      "source": [
        "gejala_user = {\n",
        "    \"demam\": 0.7,\n",
        "    \"batuk\": 0.5,\n",
        "    \"sakit_tenggorokan\": 0.6,\n",
        "# menambahkan 5 gejala baru\n",
        "    \"pilek\": 0.4,\n",
        "    \"sakit_kepala\": 0.5,\n",
        "    \"lelah\": 0.6,\n",
        "    \"bersin\": 0.4,\n",
        "    \"nyeri_otot\": 0.5\n",
        "}\n",
        "\n",
        "pengetahuan = {\n",
        "    \"flu\":{\n",
        "        \"demam\":0.8,\n",
        "        \"batuk\":0.7,\n",
        "        \"sakit_tenggorokan\": 0.6,\n",
        "# menambahkan p5b pengetahuan baru\n",
        "        \"pilek\": 0.5,\n",
        "        \"sakit_kepala\": 0.6,\n",
        "        \"lelah\": 0.6,\n",
        "        \"bersin\": 0.4,\n",
        "        \"nyeri_otot\": 0.5\n",
        "    }\n",
        "}\n",
        "\n",
        "def hitung_cf(gejala_user, pengetahuan_pakar):\n",
        "  cf_total = 0\n",
        "  first = True\n",
        "  for gejala, cf_user in gejala_user.items():\n",
        "    if gejala in pengetahuan_pakar:\n",
        "      cf_pakar = pengetahuan_pakar[gejala]\n",
        "      cf = cf_user * cf_pakar\n",
        "      if first:\n",
        "        cf_total = cf\n",
        "        first = False\n",
        "      else:\n",
        "        cf_total = cf_total + cf * (1 - cf_total)\n",
        "  return cf_total\n",
        "\n",
        "# hitung CF awal\n",
        "cf_flu = hitung_cf(gejala_user, pengetahuan[\"flu\"])\n",
        "print(f\"CF diagnosis Flu: {cf_flu:.2f}\")\n",
        "\n",
        "# SIMULASI: Ubah nilai demam menjadi 0.2\n",
        "gejala_user[\"demam\"] = 0.2\n",
        "\n",
        "# Hitung CF setelah perubahan nilai demam\n",
        "cf_flu_perubahan = hitung_cf(gejala_user, pengetahuan[\"flu\"])\n",
        "print(f\"CF diagnosis Flu (setelah demam diubah jadi 0.2): {cf_flu_perubahan:.2f}\")"
      ],
      "metadata": {
        "id": "Cx4dwnrnwh9L"
      },
      "execution_count": null,
      "outputs": []
    },
    {
      "cell_type": "markdown",
      "source": [
        "# Penjelasan\n",
        "1. Sebelum Perubahan:\n",
        "\n",
        "  Nilai CF demam = 0.7\n",
        "\n",
        "  Bobot pakar untuk demam = 0.8\n",
        "\n",
        "  Jadi kontribusi demam ke CF total:\n",
        "  0.7 * 0.8 = 0.56\n",
        "\n",
        "  Karena demam adalah gejala pertama yang dihitung, nilainya langsung jadi cf_total = 0.56.\n",
        "\n",
        "  Artinya makin tinggi nilai awal, makin kuat pengaruhnya terhadap hasil akhir.\n",
        "\n",
        "2. Setelah Perubahan:\n",
        "  \n",
        "  Nilai CF demam diubah jadi 0.2\n",
        "\n",
        "  Jadi kontribusinya turun jadi:\n",
        "  0.2 * 0.8 = 0.16\n",
        "\n",
        "  Karena cf_total dimulai dari sini, seluruh perhitungan berikutnya jadi dampaknya lebih kecil juga, karena rumusnya mengandalkan (1 - cf_total) sebagai pengali berikutnya. Artinya, penurunan nilai awal (demam) bikin efek domino: gejala-gejala lain jadi \"masuk\" dengan pengaruh yang lebih besar, tapi tetap total akhir lebih rendah dibanding sebelumnya.\n",
        "\n",
        "Kesimpulan:\n",
        "\n",
        "Menurunkan nilai CF demam dari 0.7 ke 0.2 menyebabkan total CF untuk diagnosis flu menurun, karena:\n",
        "\n",
        "Demam punya bobot tinggi dalam pengetahuan pakar.\n",
        "\n",
        "CF total sangat dipengaruhi nilai gejala awal (karena jadi dasar perhitungan selanjutnya).\n",
        "\n",
        "Semakin kecil nilai awal, semakin besar 1 - cf_total, tapi itu juga artinya gejala penting jadi kurang dianggap oleh sistem."
      ],
      "metadata": {
        "id": "ggHiAaPhwnwS"
      }
    },
    {
      "cell_type": "code",
      "source": [],
      "metadata": {
        "id": "anW8ixidztLS"
      },
      "execution_count": null,
      "outputs": []
    }
  ]
}