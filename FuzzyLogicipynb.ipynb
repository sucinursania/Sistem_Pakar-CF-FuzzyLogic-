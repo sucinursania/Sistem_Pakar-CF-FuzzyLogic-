{
  "nbformat": 4,
  "nbformat_minor": 0,
  "metadata": {
    "colab": {
      "provenance": [],
      "authorship_tag": "ABX9TyPj1VoftB4+lzdz7wgaU281",
      "include_colab_link": true
    },
    "kernelspec": {
      "name": "python3",
      "display_name": "Python 3"
    },
    "language_info": {
      "name": "python"
    }
  },
  "cells": [
    {
      "cell_type": "markdown",
      "metadata": {
        "id": "view-in-github",
        "colab_type": "text"
      },
      "source": [
        "<a href=\"https://colab.research.google.com/github/sucinursania/Sistem_Pakar-CF-FuzzyLogic-/blob/main/FuzzyLogicipynb.ipynb\" target=\"_parent\"><img src=\"https://colab.research.google.com/assets/colab-badge.svg\" alt=\"Open In Colab\"/></a>"
      ]
    },
    {
      "cell_type": "markdown",
      "source": [
        "# Fuzzy Logic\n",
        "1. Ubah input_suhu jadi 22°C. Apa yang terjadi?\n",
        "\n",
        "2. Tambahkan variabel kelembaban dan buat aturan baru (contoh: jika panas DAN lembab, kipas cepat) -> contoh ini tidak boleh digunakan\n",
        "\n",
        "3. Mengapa suhu 28°C memiliki nilai keanggotaan di \"Nyaman\" dan \"Panas\"?\n",
        "\n",
        "4. Jelaskan bagaimana hasil perubahannya dalam bentuk komentar atau teks cell."
      ],
      "metadata": {
        "id": "_7Gjv9Aw1bp5"
      }
    },
    {
      "cell_type": "code",
      "source": [
        "import numpy as np\n",
        "import skfuzzy as fuzz\n",
        "from skfuzzy import control as ctrl\n",
        "import matplotlib.pyplot as plt\n",
        "\n",
        "# Input variables\n",
        "temperature = ctrl.Antecedent(np.arange(15, 41, 1), 'temperature')\n",
        "humidity = ctrl.Antecedent(np.arange(20, 101, 1), 'humidity')\n",
        "\n",
        "# Output variable\n",
        "fan_speed = ctrl.Consequent(np.arange(0, 101, 1), 'fan_speed')\n",
        "\n",
        "# Membership functions for temperature\n",
        "temperature['dingin'] = fuzz.trimf(temperature.universe, [15, 15, 24])\n",
        "temperature['nyaman'] = fuzz.trimf(temperature.universe, [22, 26, 30])\n",
        "temperature['panas'] = fuzz.trapmf(temperature.universe, [28, 32, 40, 40])\n",
        "\n",
        "# Membership functions for humidity\n",
        "humidity['kering'] = fuzz.trapmf(humidity.universe, [20, 20, 30, 45])\n",
        "humidity['normal'] = fuzz.trimf(humidity.universe, [35, 50, 65])\n",
        "humidity['lembab'] = fuzz.trapmf(humidity.universe, [55, 70, 100, 100])\n",
        "\n",
        "# Membership functions for fan speed\n",
        "fan_speed['mati'] = fuzz.trimf(fan_speed.universe, [0, 0, 25])\n",
        "fan_speed['rendah'] = fuzz.trimf(fan_speed.universe, [0, 25, 50])\n",
        "fan_speed['sedang'] = fuzz.trimf(fan_speed.universe, [25, 50, 75])\n",
        "fan_speed['tinggi'] = fuzz.trimf(fan_speed.universe, [50, 75, 100])\n",
        "fan_speed['maksimal'] = fuzz.trapmf(fan_speed.universe, [75, 100, 100, 100])\n",
        "\n",
        "# Visualize membership functions\n",
        "temperature.view()\n",
        "humidity.view()\n",
        "fan_speed.view()\n",
        "\n",
        "# Define fuzzy rules\n",
        "rule1 = ctrl.Rule(temperature['dingin'] & humidity['kering'], fan_speed['mati'])\n",
        "rule2 = ctrl.Rule(temperature['dingin'] & humidity['normal'], fan_speed['rendah'])\n",
        "rule3 = ctrl.Rule(temperature['dingin'] & humidity['lembab'], fan_speed['rendah'])\n",
        "rule4 = ctrl.Rule(temperature['nyaman'] & humidity['kering'], fan_speed['rendah'])\n",
        "rule5 = ctrl.Rule(temperature['nyaman'] & humidity['normal'], fan_speed['sedang'])\n",
        "rule6 = ctrl.Rule(temperature['nyaman'] & humidity['lembab'], fan_speed['tinggi'])\n",
        "rule7 = ctrl.Rule(temperature['panas'] & humidity['kering'], fan_speed['tinggi'])\n",
        "rule8 = ctrl.Rule(temperature['panas'] & humidity['normal'], fan_speed['tinggi'])\n",
        "rule9 = ctrl.Rule(temperature['panas'] & humidity['lembab'], fan_speed['maksimal'])\n",
        "\n",
        "# Rule tambahan\n",
        "rule10 = ctrl.Rule(temperature['nyaman'] & humidity['lembab'], fan_speed['maksimal'])\n",
        "\n",
        "# Create the control system\n",
        "ac_ctrl = ctrl.ControlSystem([rule1, rule2, rule3, rule4, rule5, rule6, rule7, rule8, rule9, rule[10]])\n",
        "ac = ctrl.ControlSystemSimulation(ac_ctrl)\n",
        "\n",
        "ac.input['temperature'] = 30\n",
        "ac.input['humidity'] = 75\n",
        "ac.compute()\n",
        "print(f\"Untuk suhu 30 derajat dan kelembaban 75%, kecepatan kipas AC: {ac.output['fan_speed']:.2f}%\")\n",
        "fan_speed.view(sim=ac)\n",
        "plt.show()\n",
        "\n",
        "# Ubah input suhu menjadi 22°C\n",
        "ac.input['temperature'] = 22\n",
        "ac.input['humidity'] = 75\n",
        "ac.compute()\n",
        "print(f\"\\nUntuk suhu 22°C dan kelembaban 75%, kecepatan kipas AC: {ac.output['fan_speed']:.2f}%\")\n"
      ],
      "metadata": {
        "id": "FDh36N5H1qtW"
      },
      "execution_count": null,
      "outputs": []
    },
    {
      "cell_type": "markdown",
      "source": [
        "# Penjelasan\n",
        "Perubahan Input:\n",
        "- **Sebelumnya**: Suhu = 30°C, Kelembaban = 75%\n",
        "- **Setelah diubah**: Suhu = 22°C, Kelembaban = 75%\n",
        "\n",
        "Analisis:\n",
        "- Pada suhu **30°C**, sistem menganggap ruangan dalam kondisi antara **nyaman** dan **panas**, sementara kelembaban 75% tergolong **lembab**. Maka, aturan yang aktif adalah:\n",
        "  - Jika `nyaman` & `lembab` → fan speed `tinggi`\n",
        "  - Jika `panas` & `lembab` → fan speed `maksimal`\n",
        "  \n",
        "  Kombinasi ini menghasilkan fan speed sekitar **88.46%**.\n",
        "\n",
        "- Saat suhu diubah menjadi **22°C**, sistem mendeteksi suhu **dingin**, namun karena 22°C adalah titik awal dari kurva `nyaman`, maka masih ada nilai keanggotaan kecil pada `nyaman`. Kelembaban tetap `lembab`, sehingga aturan aktif adalah:\n",
        "  - Jika `dingin` & `lembab` → fan speed `rendah`\n",
        "  \n",
        "  Hasil akhirnya fan speed turun drastis menjadi sekitar **27.70%**.\n",
        "\n",
        "Kesimpulan:\n",
        "- Fuzzy logic bekerja dengan mempertimbangkan **nilai keanggotaan parsial** dari setiap input.\n",
        "- Sistem tidak membuat keputusan secara kaku, tapi menimbang semua aturan aktif secara bersamaan, kemudian menggabungkannya (agregasi) dan mengambil hasil (defuzzifikasi).\n",
        "- Nilai suhu **28°C** bisa memiliki nilai keanggotaan pada dua kategori, yaitu `nyaman` dan `panas`. Hal ini karena bentuk fungsi keanggotaannya **overlap**. Ini memungkinkan sistem merespon kondisi transisi dengan lebih **halus dan realistis**.\n"
      ],
      "metadata": {
        "id": "090LGFtM3GhX"
      }
    }
  ]
}